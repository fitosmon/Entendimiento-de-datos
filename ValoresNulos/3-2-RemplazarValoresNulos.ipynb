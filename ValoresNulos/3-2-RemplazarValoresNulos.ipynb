{
 "cells": [
  {
   "cell_type": "code",
   "execution_count": 19,
   "metadata": {},
   "outputs": [],
   "source": [
    "#Importamos las librerias pandas\n",
    "import pandas as pd"
   ]
  },
  {
   "cell_type": "code",
   "execution_count": 20,
   "metadata": {},
   "outputs": [],
   "source": [
    "#Carga desde un archivo .csv sin indice\n",
    "data = pd.read_csv(\"listings.csv\")\n",
    "columnas_seleccionadas = [\n",
    "    \"id\", \"host_name\", \"host_since\", \"host_location\", \"host_response_time\",\n",
    "    \"host_response_rate\", \"host_acceptance_rate\", \"host_is_superhost\",\n",
    "    \"host_neighbourhood\", \"host_total_listings_count\", \"host_verifications\",\n",
    "    \"host_has_profile_pic\", \"host_identity_verified\", \"neighbourhood\",\n",
    "    \"neighbourhood_cleansed\", \"latitude\", \"longitude\", \"property_type\",\n",
    "    \"room_type\", \"accommodates\", \"bathrooms\", \"bathrooms_text\", \"bedrooms\",\n",
    "    \"beds\", \"amenities\", \"price\", \"minimum_nights\", \"maximum_nights\",\n",
    "    \"minimum_nights_avg_ntm\", \"maximum_nights_avg_ntm\", \"has_availability\",\n",
    "    \"availability_30\", \"availability_60\", \"availability_90\",\n",
    "    \"availability_365\", \"number_of_reviews\", \"number_of_reviews_ltm\",\n",
    "    \"number_of_reviews_l30d\", \"first_review\", \"last_review\",\n",
    "    \"review_scores_rating\", \"review_scores_accuracy\", \"review_scores_cleanliness\",\n",
    "    \"review_scores_checkin\", \"review_scores_communication\", \"review_scores_location\",\n",
    "    \"review_scores_value\", \"license\", \"instant_bookable\", \"reviews_per_month\"\n",
    "]\n",
    "df_50 = data[columnas_seleccionadas]\n",
    "#Convertir filtro a CSV con indice id\n",
    "df_50.to_csv(\"50_Bristol_uk.csv\", index=0)"
   ]
  },
  {
   "cell_type": "code",
   "execution_count": 21,
   "metadata": {},
   "outputs": [
    {
     "data": {
      "text/plain": [
       "id                                0\n",
       "host_name                         0\n",
       "host_since                        0\n",
       "host_location                   478\n",
       "host_response_time              430\n",
       "host_response_rate              430\n",
       "host_acceptance_rate            278\n",
       "host_is_superhost                13\n",
       "host_neighbourhood             2558\n",
       "host_total_listings_count         0\n",
       "host_verifications                0\n",
       "host_has_profile_pic              0\n",
       "host_identity_verified            0\n",
       "neighbourhood                  1128\n",
       "neighbourhood_cleansed            0\n",
       "latitude                          0\n",
       "longitude                         0\n",
       "property_type                     0\n",
       "room_type                         0\n",
       "accommodates                      0\n",
       "bathrooms                       664\n",
       "bathrooms_text                    1\n",
       "bedrooms                        178\n",
       "beds                            666\n",
       "amenities                         0\n",
       "price                           664\n",
       "minimum_nights                    0\n",
       "maximum_nights                    0\n",
       "minimum_nights_avg_ntm            1\n",
       "maximum_nights_avg_ntm            1\n",
       "has_availability                 24\n",
       "availability_30                   0\n",
       "availability_60                   0\n",
       "availability_90                   0\n",
       "availability_365                  0\n",
       "number_of_reviews                 0\n",
       "number_of_reviews_ltm             0\n",
       "number_of_reviews_l30d            0\n",
       "first_review                    256\n",
       "last_review                     256\n",
       "review_scores_rating            256\n",
       "review_scores_accuracy          256\n",
       "review_scores_cleanliness       256\n",
       "review_scores_checkin           256\n",
       "review_scores_communication     256\n",
       "review_scores_location          256\n",
       "review_scores_value             256\n",
       "license                        2644\n",
       "instant_bookable                  0\n",
       "reviews_per_month               256\n",
       "dtype: int64"
      ]
     },
     "execution_count": 21,
     "metadata": {},
     "output_type": "execute_result"
    }
   ],
   "source": [
    "#Carga desde un archivo .csv sin indice\n",
    "data2 = pd.read_csv(\"50_Bristol_uk.csv\")\n",
    "#Identificar valores nulos por columna\n",
    "valores_nulos = data2.isnull().sum()\n",
    "valores_nulos"
   ]
  },
  {
   "cell_type": "code",
   "execution_count": 22,
   "metadata": {},
   "outputs": [
    {
     "data": {
      "text/plain": [
       "178"
      ]
     },
     "execution_count": 22,
     "metadata": {},
     "output_type": "execute_result"
    }
   ],
   "source": [
    "#Realizamos una copia del dataframe\n",
    "data3 = data2. copy()\n",
    "data3.bedrooms.isnull().sum()"
   ]
  },
  {
   "cell_type": "markdown",
   "metadata": {},
   "source": [
    "**Para las siguientes variables se sustituyeron los valores nulos por un string en concreto**\n",
    "(host_location,\n",
    "host_response_time,\n",
    "host_response_rate,\n",
    "host_acceptance_rate,\n",
    "host_neighbourhood,\n",
    "neighbourhood,\n",
    "first_review,\n",
    "last_review,\n",
    "license,\n",
    "has_availability,\n",
    "bathrooms_text)"
   ]
  },
  {
   "cell_type": "code",
   "execution_count": 23,
   "metadata": {},
   "outputs": [],
   "source": [
    "data3[\"host_location\"] = data3[\"host_location\"].fillna(\"No location\")\n",
    "data3[\"host_neighbourhood\"] = data3[\"host_neighbourhood\"].fillna(\"Not specified\")\n",
    "data3[\"neighbourhood\"] = data3[\"neighbourhood\"].fillna(\"No specified\")\n",
    "data3[\"first_review\"] = data3[\"first_review\"].fillna(\"31/12/2030\")\n",
    "data3[\"last_review\"] = data3[\"last_review\"].fillna(\"31/12/2030\")\n",
    "data3[\"license\"] = data3[\"license\"].fillna(\"Without license\")\n",
    "data3[\"has_availability\"] = data3[\"has_availability\"].fillna(\"Unknown\")\n"
   ]
  },
  {
   "cell_type": "markdown",
   "metadata": {},
   "source": [
    "**Para las siguientes variables se sustituyeron los valores nulos por la mediana**\n",
    "(review_scores_location,\n",
    "review_scores_value,\n",
    "review_scores_cleanliness)"
   ]
  },
  {
   "cell_type": "code",
   "execution_count": 24,
   "metadata": {},
   "outputs": [],
   "source": [
    "\n",
    "data3[\"review_scores_location\"] = data3[\"review_scores_location\"].fillna(round(data3[\"review_scores_location\"].median(), 1))\n",
    "data3[\"review_scores_value\"] = data3[\"review_scores_value\"].fillna(round(data3[\"review_scores_value\"].median(), 1))\n",
    "data3[\"review_scores_cleanliness\"] = data3[\"review_scores_cleanliness\"].fillna(round(data3[\"review_scores_cleanliness\"].median(), 1))\n",
    "data3[\"bedrooms\"] = data3[\"bedrooms\"].fillna(round(data3['bedrooms'].median(), 1))\n",
    "data3[\"bathrooms\"] = data3[\"bathrooms\"].fillna(round(data3['bathrooms'].median(), 1))\n",
    "data3[\"beds\"] = data3[\"beds\"].fillna(round(data3['beds'].median(), 1))"
   ]
  },
  {
   "cell_type": "markdown",
   "metadata": {},
   "source": [
    "**Para las siguientes variables se sustituyeron los valores nulos por la media o promedio**\n",
    "(review_scores_rating,\n",
    "review_scores_checkin)"
   ]
  },
  {
   "cell_type": "code",
   "execution_count": 25,
   "metadata": {},
   "outputs": [],
   "source": [
    "data3['host_response_rate'] = data3['host_response_rate'].str.rstrip('%')\n",
    "data3['host_response_rate'] =pd.to_numeric(data3['host_response_rate'])\n",
    "data3['host_response_rate'] = data3['host_response_rate'].fillna(round(data3['host_response_rate'].mean()))\n",
    "data3['host_acceptance_rate'] = data3['host_acceptance_rate'].str.rstrip('%')\n",
    "data3['host_acceptance_rate'] =pd.to_numeric(data3['host_acceptance_rate'])\n",
    "data3['host_acceptance_rate'] = data3['host_acceptance_rate'].fillna(round(data3['host_acceptance_rate'].mean()))\n",
    "data3[\"review_scores_rating\"] = data3[\"review_scores_rating\"].fillna(round(data3[\"review_scores_rating\"].mean(), 1))\n",
    "data3[\"review_scores_checkin\"] = data3[\"review_scores_checkin\"].fillna(round(data3[\"review_scores_checkin\"].mean(), 1))"
   ]
  },
  {
   "cell_type": "markdown",
   "metadata": {},
   "source": [
    "**Para las siguientes variables se sustituyeron los valores nulos por un valor no nulo hacia delante \"forward  fill\"**\n",
    "(review_scores_accuracy,\n",
    "price)\n",
    "**Ya que seguia dejando valores nulos se combino con  \"backward  fill\"**"
   ]
  },
  {
   "cell_type": "code",
   "execution_count": 26,
   "metadata": {},
   "outputs": [],
   "source": [
    "data3[\"review_scores_accuracy\"] = data3[\"review_scores_accuracy\"].ffill()\n",
    "data3[\"price\"] = data3[\"price\"].ffill\n",
    "data3[\"host_is_superhost\"] = data3[\"host_is_superhost\"].ffill()\n",
    "data3[\"host_response_time\"] = data3[\"host_response_time\"].bfill()\n",
    "data3[\"host_response_time\"] = data3[\"host_response_time\"].ffill()\n",
    "data3[\"bathrooms_text\"] = data3[\"bathrooms_text\"].bfill()"
   ]
  },
  {
   "cell_type": "markdown",
   "metadata": {},
   "source": [
    "**Para las siguientes variables se sustituyeron los valores nulos por un valor no nulo hacia atras \"backward  fill\"**\n",
    "(reviews_per_month,\n",
    "review_scores_communication)\n",
    "**Ya que seguia dejando valores nulos se combino con  \"forward  fill\"**"
   ]
  },
  {
   "cell_type": "code",
   "execution_count": 27,
   "metadata": {},
   "outputs": [
    {
     "name": "stderr",
     "output_type": "stream",
     "text": [
      "/var/folders/__/49qdcx1j123_2621030kk6t40000gn/T/ipykernel_26848/2711094657.py:1: FutureWarning: Series.fillna with 'method' is deprecated and will raise in a future version. Use obj.ffill() or obj.bfill() instead.\n",
      "  data3[\"reviews_per_month\"] = data3[\"reviews_per_month\"].fillna(method = \"bfill\").fillna(method = \"ffill\")\n",
      "/var/folders/__/49qdcx1j123_2621030kk6t40000gn/T/ipykernel_26848/2711094657.py:2: FutureWarning: Series.fillna with 'method' is deprecated and will raise in a future version. Use obj.ffill() or obj.bfill() instead.\n",
      "  data3[\"review_scores_communication\"] = data3[\"review_scores_communication\"].fillna(method = \"bfill\").fillna(method = \"ffill\")\n"
     ]
    }
   ],
   "source": [
    "data3[\"reviews_per_month\"] = data3[\"reviews_per_month\"].fillna(method = \"bfill\").fillna(method = \"ffill\")\n",
    "data3[\"review_scores_communication\"] = data3[\"review_scores_communication\"].fillna(method = \"bfill\").fillna(method = \"ffill\")"
   ]
  },
  {
   "cell_type": "code",
   "execution_count": 28,
   "metadata": {},
   "outputs": [
    {
     "data": {
      "text/plain": [
       "id                             0\n",
       "host_name                      0\n",
       "host_since                     0\n",
       "host_location                  0\n",
       "host_response_time             0\n",
       "host_response_rate             0\n",
       "host_acceptance_rate           0\n",
       "host_is_superhost              0\n",
       "host_neighbourhood             0\n",
       "host_total_listings_count      0\n",
       "host_verifications             0\n",
       "host_has_profile_pic           0\n",
       "host_identity_verified         0\n",
       "neighbourhood                  0\n",
       "neighbourhood_cleansed         0\n",
       "latitude                       0\n",
       "longitude                      0\n",
       "property_type                  0\n",
       "room_type                      0\n",
       "accommodates                   0\n",
       "bathrooms                      0\n",
       "bathrooms_text                 0\n",
       "bedrooms                       0\n",
       "beds                           0\n",
       "amenities                      0\n",
       "price                          0\n",
       "minimum_nights                 0\n",
       "maximum_nights                 0\n",
       "minimum_nights_avg_ntm         1\n",
       "maximum_nights_avg_ntm         1\n",
       "has_availability               0\n",
       "availability_30                0\n",
       "availability_60                0\n",
       "availability_90                0\n",
       "availability_365               0\n",
       "number_of_reviews              0\n",
       "number_of_reviews_ltm          0\n",
       "number_of_reviews_l30d         0\n",
       "first_review                   0\n",
       "last_review                    0\n",
       "review_scores_rating           0\n",
       "review_scores_accuracy         0\n",
       "review_scores_cleanliness      0\n",
       "review_scores_checkin          0\n",
       "review_scores_communication    0\n",
       "review_scores_location         0\n",
       "review_scores_value            0\n",
       "license                        0\n",
       "instant_bookable               0\n",
       "reviews_per_month              0\n",
       "dtype: int64"
      ]
     },
     "execution_count": 28,
     "metadata": {},
     "output_type": "execute_result"
    }
   ],
   "source": [
    "#Identificar valores nulos por columna\n",
    "valores_nulos = data3.isnull().sum()\n",
    "valores_nulos"
   ]
  },
  {
   "cell_type": "code",
   "execution_count": 29,
   "metadata": {},
   "outputs": [],
   "source": [
    "#Convertir DataFrame a CSV\n",
    "data3.to_csv(\"50_sin_nulos_Bristol_uk.csv\", index=0)"
   ]
  },
  {
   "cell_type": "code",
   "execution_count": 30,
   "metadata": {},
   "outputs": [
    {
     "data": {
      "text/plain": [
       "2"
      ]
     },
     "execution_count": 30,
     "metadata": {},
     "output_type": "execute_result"
    }
   ],
   "source": [
    "#Identificar valores nulos por dataframe\n",
    "valores_nulos = data3.isnull().sum().sum()\n",
    "valores_nulos"
   ]
  }
 ],
 "metadata": {
  "kernelspec": {
   "display_name": "Negocios",
   "language": "python",
   "name": "python3"
  },
  "language_info": {
   "codemirror_mode": {
    "name": "ipython",
    "version": 3
   },
   "file_extension": ".py",
   "mimetype": "text/x-python",
   "name": "python",
   "nbconvert_exporter": "python",
   "pygments_lexer": "ipython3",
   "version": "3.13.1"
  }
 },
 "nbformat": 4,
 "nbformat_minor": 2
}
