{
 "cells": [
  {
   "cell_type": "code",
   "execution_count": 1,
   "metadata": {},
   "outputs": [],
   "source": [
    "import pandas as pd \n"
   ]
  },
  {
   "cell_type": "code",
   "execution_count": 3,
   "metadata": {},
   "outputs": [
    {
     "name": "stdout",
     "output_type": "stream",
     "text": [
      "<class 'pandas.core.frame.DataFrame'>\n",
      "RangeIndex: 65 entries, 0 to 64\n",
      "Data columns (total 24 columns):\n",
      " #   Column                               Non-Null Count  Dtype  \n",
      "---  ------                               --------------  -----  \n",
      " 0   indice_tiempo                        65 non-null     object \n",
      " 1   ventas_precios_corrientes            65 non-null     float64\n",
      " 2   ventas_precios_constantes            65 non-null     float64\n",
      " 3   ventas_totales_canal_venta           65 non-null     float64\n",
      " 4   salon_ventas                         59 non-null     float64\n",
      " 5   canales_on_line                      65 non-null     float64\n",
      " 6   ventas_totales_medio_pago            65 non-null     float64\n",
      " 7   efectivo                             65 non-null     float64\n",
      " 8   tarjetas_debito                      64 non-null     float64\n",
      " 9   tarjetas_credito                     58 non-null     float64\n",
      " 10  otros_medios                         64 non-null     float64\n",
      " 11  ventas_totales_grupo_articulos       65 non-null     float64\n",
      " 12  subtotal_ventas_alimentos_bebidas    55 non-null     float64\n",
      " 13  bebidas                              64 non-null     float64\n",
      " 14  almacen                              63 non-null     float64\n",
      " 15  panaderia                            64 non-null     float64\n",
      " 16  lacteos                              64 non-null     float64\n",
      " 17  carnes                               64 non-null     float64\n",
      " 18  verduleria_fruteria                  64 non-null     float64\n",
      " 19  alimentos_preparados_rotiseria       64 non-null     float64\n",
      " 20  articulos_limpieza_perfumeria        65 non-null     float64\n",
      " 21  indumentaria_calzado_textiles_hogar  63 non-null     float64\n",
      " 22  electronicos_articulos_hogar         62 non-null     float64\n",
      " 23  otros                                61 non-null     float64\n",
      "dtypes: float64(23), object(1)\n",
      "memory usage: 12.3+ KB\n"
     ]
    }
   ],
   "source": [
    "df = pd.read_csv('Ventas_totales.csv')\n",
    "df.info()"
   ]
  }
 ],
 "metadata": {
  "kernelspec": {
   "display_name": "Negocios",
   "language": "python",
   "name": "python3"
  },
  "language_info": {
   "codemirror_mode": {
    "name": "ipython",
    "version": 3
   },
   "file_extension": ".py",
   "mimetype": "text/x-python",
   "name": "python",
   "nbconvert_exporter": "python",
   "pygments_lexer": "ipython3",
   "version": "3.13.1"
  }
 },
 "nbformat": 4,
 "nbformat_minor": 2
}
