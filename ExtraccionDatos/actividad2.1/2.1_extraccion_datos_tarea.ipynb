{
 "cells": [
  {
   "cell_type": "markdown",
   "metadata": {},
   "source": [
    "Importar librerias"
   ]
  },
  {
   "cell_type": "code",
   "execution_count": 1,
   "metadata": {},
   "outputs": [],
   "source": [
    "import pandas as pd \n",
    "import numpy as np \n",
    "import matplotlib.pyplot as plt\n",
    "import seaborn as sbn"
   ]
  },
  {
   "cell_type": "markdown",
   "metadata": {},
   "source": [
    "Carga de archivo"
   ]
  },
  {
   "cell_type": "code",
   "execution_count": 4,
   "metadata": {},
   "outputs": [
    {
     "name": "stdout",
     "output_type": "stream",
     "text": [
      "<class 'pandas.core.frame.DataFrame'>\n",
      "RangeIndex: 1426 entries, 0 to 1425\n",
      "Data columns (total 14 columns):\n",
      " #   Column                     Non-Null Count  Dtype         \n",
      "---  ------                     --------------  -----         \n",
      " 0   CVE_DOC                    1426 non-null   object        \n",
      " 1   FECHA_DOC                  1426 non-null   datetime64[ns]\n",
      " 2   NOMBRE_VENDEDOR            1424 non-null   object        \n",
      " 3   NOMBRE_CLIENTE             1426 non-null   object        \n",
      " 4   CANT                       1426 non-null   int64         \n",
      " 5   CVE_ART                    1426 non-null   object        \n",
      " 6   DESCR                      1426 non-null   object        \n",
      " 7   PRECIO_UNITARIO            1426 non-null   float64       \n",
      " 8   COSTO_UNITARIO             1426 non-null   float64       \n",
      " 9   COSTO_UNITARIO_CALCULADO   1426 non-null   float64       \n",
      " 10  SUBTOTAL_PARTIDA           1426 non-null   float64       \n",
      " 11  COSTO_TOTAL_CALCULADO      1426 non-null   float64       \n",
      " 12  MARGEN_UNITARIO_CALCULADO  1426 non-null   float64       \n",
      " 13  MARGEN_TOTAL_CALCULADO     1426 non-null   float64       \n",
      "dtypes: datetime64[ns](1), float64(7), int64(1), object(5)\n",
      "memory usage: 156.1+ KB\n"
     ]
    }
   ],
   "source": [
    "df = pd.read_excel('Detalle precios y productos fabricados 2022.xlsx')\n",
    "df.info()"
   ]
  }
 ],
 "metadata": {
  "kernelspec": {
   "display_name": "Negocios",
   "language": "python",
   "name": "python3"
  },
  "language_info": {
   "codemirror_mode": {
    "name": "ipython",
    "version": 3
   },
   "file_extension": ".py",
   "mimetype": "text/x-python",
   "name": "python",
   "nbconvert_exporter": "python",
   "pygments_lexer": "ipython3",
   "version": "3.13.1"
  }
 },
 "nbformat": 4,
 "nbformat_minor": 2
}
