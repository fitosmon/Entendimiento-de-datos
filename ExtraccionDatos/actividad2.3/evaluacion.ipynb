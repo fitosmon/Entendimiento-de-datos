{
 "cells": [
  {
   "cell_type": "markdown",
   "metadata": {},
   "source": [
    "evaluacion de filtros para el pais"
   ]
  },
  {
   "cell_type": "code",
   "execution_count": 1,
   "metadata": {},
   "outputs": [],
   "source": [
    "import pandas as pd \n",
    "import numpy as np \n",
    "import matplotlib.pyplot as plt\n",
    "import seaborn as sbn"
   ]
  },
  {
   "cell_type": "code",
   "execution_count": 3,
   "metadata": {},
   "outputs": [
    {
     "name": "stdout",
     "output_type": "stream",
     "text": [
      "<class 'pandas.core.frame.DataFrame'>\n",
      "RangeIndex: 2644 entries, 0 to 2643\n",
      "Data columns (total 75 columns):\n",
      " #   Column                                        Non-Null Count  Dtype  \n",
      "---  ------                                        --------------  -----  \n",
      " 0   id                                            2644 non-null   int64  \n",
      " 1   listing_url                                   2644 non-null   object \n",
      " 2   scrape_id                                     2644 non-null   int64  \n",
      " 3   last_scraped                                  2644 non-null   object \n",
      " 4   source                                        2644 non-null   object \n",
      " 5   name                                          2644 non-null   object \n",
      " 6   description                                   2591 non-null   object \n",
      " 7   neighborhood_overview                         1516 non-null   object \n",
      " 8   picture_url                                   2644 non-null   object \n",
      " 9   host_id                                       2644 non-null   int64  \n",
      " 10  host_url                                      2644 non-null   object \n",
      " 11  host_name                                     2644 non-null   object \n",
      " 12  host_since                                    2644 non-null   object \n",
      " 13  host_location                                 2166 non-null   object \n",
      " 14  host_about                                    1538 non-null   object \n",
      " 15  host_response_time                            2214 non-null   object \n",
      " 16  host_response_rate                            2214 non-null   object \n",
      " 17  host_acceptance_rate                          2366 non-null   object \n",
      " 18  host_is_superhost                             2631 non-null   object \n",
      " 19  host_thumbnail_url                            2644 non-null   object \n",
      " 20  host_picture_url                              2644 non-null   object \n",
      " 21  host_neighbourhood                            86 non-null     object \n",
      " 22  host_listings_count                           2644 non-null   int64  \n",
      " 23  host_total_listings_count                     2644 non-null   int64  \n",
      " 24  host_verifications                            2644 non-null   object \n",
      " 25  host_has_profile_pic                          2644 non-null   object \n",
      " 26  host_identity_verified                        2644 non-null   object \n",
      " 27  neighbourhood                                 1516 non-null   object \n",
      " 28  neighbourhood_cleansed                        2644 non-null   object \n",
      " 29  neighbourhood_group_cleansed                  0 non-null      float64\n",
      " 30  latitude                                      2644 non-null   float64\n",
      " 31  longitude                                     2644 non-null   float64\n",
      " 32  property_type                                 2644 non-null   object \n",
      " 33  room_type                                     2644 non-null   object \n",
      " 34  accommodates                                  2644 non-null   int64  \n",
      " 35  bathrooms                                     1980 non-null   float64\n",
      " 36  bathrooms_text                                2643 non-null   object \n",
      " 37  bedrooms                                      2466 non-null   float64\n",
      " 38  beds                                          1978 non-null   float64\n",
      " 39  amenities                                     2644 non-null   object \n",
      " 40  price                                         1980 non-null   object \n",
      " 41  minimum_nights                                2644 non-null   int64  \n",
      " 42  maximum_nights                                2644 non-null   int64  \n",
      " 43  minimum_minimum_nights                        2643 non-null   float64\n",
      " 44  maximum_minimum_nights                        2643 non-null   float64\n",
      " 45  minimum_maximum_nights                        2643 non-null   float64\n",
      " 46  maximum_maximum_nights                        2643 non-null   float64\n",
      " 47  minimum_nights_avg_ntm                        2643 non-null   float64\n",
      " 48  maximum_nights_avg_ntm                        2643 non-null   float64\n",
      " 49  calendar_updated                              0 non-null      float64\n",
      " 50  has_availability                              2620 non-null   object \n",
      " 51  availability_30                               2644 non-null   int64  \n",
      " 52  availability_60                               2644 non-null   int64  \n",
      " 53  availability_90                               2644 non-null   int64  \n",
      " 54  availability_365                              2644 non-null   int64  \n",
      " 55  calendar_last_scraped                         2644 non-null   object \n",
      " 56  number_of_reviews                             2644 non-null   int64  \n",
      " 57  number_of_reviews_ltm                         2644 non-null   int64  \n",
      " 58  number_of_reviews_l30d                        2644 non-null   int64  \n",
      " 59  first_review                                  2388 non-null   object \n",
      " 60  last_review                                   2388 non-null   object \n",
      " 61  review_scores_rating                          2388 non-null   float64\n",
      " 62  review_scores_accuracy                        2388 non-null   float64\n",
      " 63  review_scores_cleanliness                     2388 non-null   float64\n",
      " 64  review_scores_checkin                         2388 non-null   float64\n",
      " 65  review_scores_communication                   2388 non-null   float64\n",
      " 66  review_scores_location                        2388 non-null   float64\n",
      " 67  review_scores_value                           2388 non-null   float64\n",
      " 68  license                                       0 non-null      float64\n",
      " 69  instant_bookable                              2644 non-null   object \n",
      " 70  calculated_host_listings_count                2644 non-null   int64  \n",
      " 71  calculated_host_listings_count_entire_homes   2644 non-null   int64  \n",
      " 72  calculated_host_listings_count_private_rooms  2644 non-null   int64  \n",
      " 73  calculated_host_listings_count_shared_rooms   2644 non-null   int64  \n",
      " 74  reviews_per_month                             2388 non-null   float64\n",
      "dtypes: float64(22), int64(19), object(34)\n",
      "memory usage: 1.5+ MB\n"
     ]
    }
   ],
   "source": [
    "df = pd.read_csv('listings.csv')\n",
    "df.info()"
   ]
  },
  {
   "cell_type": "code",
   "execution_count": 49,
   "metadata": {},
   "outputs": [
    {
     "data": {
      "text/plain": [
       "0       2\n",
       "1       2\n",
       "2       1\n",
       "3       2\n",
       "4       1\n",
       "       ..\n",
       "2639    2\n",
       "2640    5\n",
       "2641    2\n",
       "2642    2\n",
       "2643    8\n",
       "Name: accommodates, Length: 2644, dtype: int64"
      ]
     },
     "execution_count": 49,
     "metadata": {},
     "output_type": "execute_result"
    }
   ],
   "source": [
    "df[\"accommodates\"]"
   ]
  },
  {
   "cell_type": "code",
   "execution_count": 56,
   "metadata": {},
   "outputs": [
    {
     "data": {
      "text/plain": [
       "0       Sarah\n",
       "4       Fiona\n",
       "20      Sarah\n",
       "54      Sarah\n",
       "77      Sarah\n",
       "        ...  \n",
       "2533    Sarah\n",
       "2639     Luke\n",
       "2640    Sarah\n",
       "2641    Jenna\n",
       "2642      Amy\n",
       "Name: host_name, Length: 78, dtype: object"
      ]
     },
     "execution_count": 56,
     "metadata": {},
     "output_type": "execute_result"
    }
   ],
   "source": [
    "filtro1 = df[(df['host_name'] == \"Sarah\") | (df['host_name'] == \"Fiona\") | (df['host_name'] == \"Jenna\") | (df['host_name'] == \"Amy\") | (df['host_name'] == \"Luke\")]\n",
    "# filtro1 = df[df['host_name'] == \"Sarah\" ]\n",
    "file1= open('filtroHostName.csv', 'a')\n",
    "file1.write(\"En el primer filtro se busca obtener solo los objetos cuyo valor en la columna host_name, sean de 5 nombres distintos\\n\")\n",
    "filtro1.to_csv(file1)\n",
    "file1.close()\n",
    "filtro1['host_name']"
   ]
  },
  {
   "cell_type": "markdown",
   "metadata": {},
   "source": [
    "segunda\n"
   ]
  },
  {
   "cell_type": "code",
   "execution_count": null,
   "metadata": {},
   "outputs": [
    {
     "data": {
      "text/plain": [
       "0      2011-01-24\n",
       "1      2011-05-15\n",
       "2      2011-06-16\n",
       "3      2012-01-08\n",
       "4      2012-03-18\n",
       "          ...    \n",
       "2634   2017-10-01\n",
       "2635   2014-11-09\n",
       "2637   2014-11-09\n",
       "2639   2017-12-30\n",
       "2642   2014-08-07\n",
       "Name: host_since, Length: 1859, dtype: datetime64[ns]"
      ]
     },
     "execution_count": 20,
     "metadata": {},
     "output_type": "execute_result"
    }
   ],
   "source": [
    "df[[\"host_since\"]] = df[[\"host_since\"]].apply(pd.to_datetime, errors = \"coerce\")\n",
    "filtro2 = df[(df['host_since'] <= \"1/1/2019\" )]\n",
    "file2= open('filtroHostSince.csv', 'a')\n",
    "file2.write(\"En el cuarto filtro se busca obtener solo los miembros que se hayan unido antes del 2019\\n\")\n",
    "filtro2.to_csv(file2)\n",
    "file2.close()\n",
    "filtro2['host_since']"
   ]
  },
  {
   "cell_type": "markdown",
   "metadata": {},
   "source": [
    "tercera"
   ]
  },
  {
   "cell_type": "code",
   "execution_count": 21,
   "metadata": {},
   "outputs": [
    {
     "data": {
      "text/plain": [
       "7       within a day\n",
       "11      within a day\n",
       "14      within a day\n",
       "17      within a day\n",
       "19      within a day\n",
       "            ...     \n",
       "2423    within a day\n",
       "2434    within a day\n",
       "2443    within a day\n",
       "2467    within a day\n",
       "2601    within a day\n",
       "Name: host_response_time, Length: 152, dtype: object"
      ]
     },
     "execution_count": 21,
     "metadata": {},
     "output_type": "execute_result"
    }
   ],
   "source": [
    "\n",
    "filtro3 = df[(df['host_response_time'] == \"within a day\" )]\n",
    "file3= open('filtroHostResponse.csv', 'a')\n",
    "file3.write(\"En el tercer filtro se busca obtener solo los miembros que respondan dentro del mismo dia\\n\")\n",
    "filtro3.to_csv(file3)\n",
    "file3.close()\n",
    "filtro3['host_response_time']"
   ]
  },
  {
   "cell_type": "markdown",
   "metadata": {},
   "source": [
    "cuarta"
   ]
  },
  {
   "cell_type": "code",
   "execution_count": null,
   "metadata": {},
   "outputs": [
    {
     "data": {
      "text/plain": [
       "7       5\n",
       "9       5\n",
       "12      5\n",
       "14      5\n",
       "27      8\n",
       "       ..\n",
       "2620    7\n",
       "2629    8\n",
       "2634    6\n",
       "2640    5\n",
       "2643    8\n",
       "Name: accommodates, Length: 631, dtype: int64"
      ]
     },
     "execution_count": 27,
     "metadata": {},
     "output_type": "execute_result"
    }
   ],
   "source": [
    "filtro4 = df[(df['accommodates'] >= 5 )]\n",
    "file4= open('filtroAcommodates.csv', 'a')\n",
    "file4.write(\"En el cuarto filtro se busca obtener solo los miembros que permitan al menos 5 huespedes\\n\")\n",
    "filtro4.to_csv(file4)\n",
    "file4.close()\n",
    "filtro4['accommodates']"
   ]
  },
  {
   "cell_type": "markdown",
   "metadata": {},
   "source": [
    "Quinto"
   ]
  },
  {
   "cell_type": "code",
   "execution_count": 35,
   "metadata": {},
   "outputs": [
    {
     "data": {
      "text/plain": [
       "0          Private room\n",
       "1          Private room\n",
       "2          Private room\n",
       "3          Private room\n",
       "4          Private room\n",
       "             ...       \n",
       "2639    Entire home/apt\n",
       "2640    Entire home/apt\n",
       "2641       Private room\n",
       "2642    Entire home/apt\n",
       "2643       Private room\n",
       "Name: room_type, Length: 2632, dtype: object"
      ]
     },
     "execution_count": 35,
     "metadata": {},
     "output_type": "execute_result"
    }
   ],
   "source": [
    "filtro5 = df[(df['room_type'] == \"Private room\" ) | (df['room_type'] == \"Entire home/apt\")]\n",
    "file5= open('filtroRoomType.csv', 'a')\n",
    "file5.write(\"En el quinto filtro se busca obtener los anuncios que sean de cuarto privado o casa completa\\n\")\n",
    "filtro5.to_csv(file5)\n",
    "file5.close()\n",
    "filtro5['room_type']"
   ]
  },
  {
   "cell_type": "markdown",
   "metadata": {},
   "source": [
    "Sexto"
   ]
  },
  {
   "cell_type": "code",
   "execution_count": 36,
   "metadata": {},
   "outputs": [
    {
     "data": {
      "text/plain": [
       "1       1.0\n",
       "2       1.0\n",
       "3       1.0\n",
       "5       1.0\n",
       "6       2.0\n",
       "       ... \n",
       "2639    1.0\n",
       "2640    4.0\n",
       "2641    1.0\n",
       "2642    1.0\n",
       "2643    3.0\n",
       "Name: beds, Length: 1830, dtype: float64"
      ]
     },
     "execution_count": 36,
     "metadata": {},
     "output_type": "execute_result"
    }
   ],
   "source": [
    "filtro6 = df[(df['beds'] <= 4)]\n",
    "file6= open('filtroBeds.csv', 'a')\n",
    "file6.write(\"En el quinto filtro se busca obtener los anuncios que tengan maximo 4 camas\\n\")\n",
    "filtro6.to_csv(file6)\n",
    "file6.close()\n",
    "filtro6['beds']"
   ]
  },
  {
   "cell_type": "markdown",
   "metadata": {},
   "source": [
    "Septimo"
   ]
  },
  {
   "cell_type": "code",
   "execution_count": 41,
   "metadata": {},
   "outputs": [
    {
     "data": {
      "text/plain": [
       "40      0.0\n",
       "46      NaN\n",
       "59      1.0\n",
       "63      1.0\n",
       "83      1.0\n",
       "       ... \n",
       "2620    1.0\n",
       "2626    1.0\n",
       "2628    1.0\n",
       "2629    2.0\n",
       "2642    1.0\n",
       "Name: bathrooms, Length: 568, dtype: float64"
      ]
     },
     "execution_count": 41,
     "metadata": {},
     "output_type": "execute_result"
    }
   ],
   "source": [
    "filtro7 = df[((df['host_is_superhost'] == \"t\") | (df['bathrooms'] == 1)) & (df['instant_bookable'] == \"t\")]\n",
    "file7= open('filtroSuperBathInst.csv', 'a')\n",
    "file7.write(\"En el quinto filtro se busca obtener los anuncios que tengan 1 baño o que sean superhost pero con la condición de que todos sean instant bookable\\n\")\n",
    "filtro7.to_csv(file7)\n",
    "file7.close()\n",
    "filtro7['bathrooms']"
   ]
  },
  {
   "cell_type": "markdown",
   "metadata": {},
   "source": [
    "octavo"
   ]
  },
  {
   "cell_type": "code",
   "execution_count": 47,
   "metadata": {},
   "outputs": [
    {
     "data": {
      "text/plain": [
       "1292    3.00\n",
       "1355    3.00\n",
       "1364    3.00\n",
       "1683    3.00\n",
       "1696    3.00\n",
       "2169    3.00\n",
       "2281    3.00\n",
       "2416    2.33\n",
       "2450    2.50\n",
       "2522    3.00\n",
       "2531    3.00\n",
       "Name: review_scores_cleanliness, dtype: float64"
      ]
     },
     "execution_count": 47,
     "metadata": {},
     "output_type": "execute_result"
    }
   ],
   "source": [
    "filtro8 = df[(df['review_scores_cleanliness'] <= 3) & (df['review_scores_rating'] >= 3) ]\n",
    "file8= open('filtroReviews.csv', 'a')\n",
    "file8.write(\"En el octavo filtro se busca obtener los anuncios que tengan review _scores _cleanliness sea menor de 3 y review_scores _rating sea mayor de 3\\n\")\n",
    "filtro8.to_csv(file8)\n",
    "file8.close()\n",
    "filtro8['review_scores_cleanliness']"
   ]
  }
 ],
 "metadata": {
  "kernelspec": {
   "display_name": "Negocios",
   "language": "python",
   "name": "python3"
  },
  "language_info": {
   "codemirror_mode": {
    "name": "ipython",
    "version": 3
   },
   "file_extension": ".py",
   "mimetype": "text/x-python",
   "name": "python",
   "nbconvert_exporter": "python",
   "pygments_lexer": "ipython3",
   "version": "3.13.1"
  }
 },
 "nbformat": 4,
 "nbformat_minor": 2
}
